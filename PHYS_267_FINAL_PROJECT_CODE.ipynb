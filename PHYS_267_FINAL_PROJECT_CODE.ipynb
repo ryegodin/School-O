{
  "nbformat": 4,
  "nbformat_minor": 0,
  "metadata": {
    "colab": {
      "name": "PHYS 267 FINAL PROJECT CODE",
      "provenance": [],
      "collapsed_sections": []
    },
    "kernelspec": {
      "name": "python3",
      "display_name": "Python 3"
    },
    "language_info": {
      "name": "python"
    }
  },
  "cells": [
    {
      "cell_type": "markdown",
      "source": [
        "# PHYS 267 Final Project <br> <font color='blue'> Completed by: Lyndsy Acheson, Rye Godin, Eric McFarlane | April 5th, 2022 </font>\n",
        "\n",
        "### Topic: Geophysics<br> <font size='4pt'> Initial Conditions of a Volcano to Determine an Effusive or Explosive Eruption </font>\n",
        "\n",
        "\n",
        "\n",
        "\n",
        "---\n",
        "\n",
        "\n",
        "\n",
        "---\n",
        "\n"
      ],
      "metadata": {
        "id": "WSgDsIKpL4V-"
      }
    },
    {
      "cell_type": "markdown",
      "source": [
        "## Introduction to Topic / Question\n",
        "\n",
        "A study was conducted on whether or not there are any initial conditions that would indicate whether a volcanic eruption would be explosive or effusive. An **explosive** eruption is where gasses have pressurized within a viscous magma and cause for a violent eruption, where **effusive** is less volatile and magma flows from the epicenter to the ground. These different types of eruptions have various conditions which have been recorded and tabulated which we are able to analyze with through various methods. The overlying question for this specific study is; “Are there any specific conditions which determine whether an eruption will be effusive or explosive”. In our analysis of this data, we approached this specific problem by comparing the various measurements and determining whether there was a difference between the explosive and effusive for these conditions. For example, we checked the storage temperature of the magma in effusive eruptions against explosive eruptions to see if there was a significant difference between the two sets of data. By breaking the data up into its individual components we are able to determine which specific data-sets have a significant influence on eruption style. We can then determine which specific constraints to use if one was to continue this research further, or use it to determine the eruption style of volcanoes. "
      ],
      "metadata": {
        "id": "F5H25aCuuXtc"
      }
    },
    {
      "cell_type": "markdown",
      "source": [
        "## Research on Topic:\n",
        "\n",
        "Through our research, we found a study which has previously conducted this exact experiment. In the paper \"Explosive or effusive style of volcanic eruption determined by magma storage conditions\" by Popa. R-G. and Bachmann. O. they anaylsed various storage conditions to see whether or not there were specific conditions which could be used to approximate the eruption style of a volcano. \n",
        "\n",
        "Within this paper, various techniques of hypothesis testing where used to determine whether or not the following conditions individually indicated an eruption style:\n",
        "\n",
        "*   Composition\n",
        "*   Dissolved Water (%wt)\n",
        "*   Crystallinity (%vol)\n",
        "*   Storage Temperature (C)\n",
        "*   Melt Composition (wt%) [various compounds]\n",
        "\n",
        "In these studies they found that the most prominant conditions indicated towards one eruptive style more than another. They found that the \"Dissolved Water (wt%)\" and \"Crtstallinity (vol%)\" have ranges ~4-5.5wt% and less than 30 %vol, respectively indicate a more explosive eruptive style. While all other conditions have less control over these eruptive style parameters.  \n",
        "\n"
      ],
      "metadata": {
        "id": "wfJZrMZ_usu5"
      }
    },
    {
      "cell_type": "markdown",
      "source": [
        "## Hypotheses:\n",
        "\n",
        "Since there are several main components to answer this question, we will be creating several Null and Alternative Hypothesis to determine whether or not there is specific conditions which control eruptive style. \n",
        "\n",
        "*   Dissolved Water (%wt)\n",
        "    * Null Hypothesis: There is no difference between effusive and explosive dissolved water (%wt) amounts.\n",
        "    * Alternative Hypothesis: There is a difference between effusive and explosive dissolved water (%wt) amounts.\n",
        "*   Crystallinity (%vol)\n",
        "    * Null Hypothesis: There is no significant difference between Explosive and Effusive erruptions for crystallinity (vol%)\n",
        "    * Alternative Hypothesis: Alternative Hypothesis: There is a difference between Explosive and Effusive erruptions for crystallinity (vol%)\n",
        "*   Storage Temperature (C)\n",
        "    * Null Hypothesis: There is no difference of storage temperatures for explosive or effusive eruptions.\n",
        "    * Alternative Hypothesis: There is a difference of storage temperatures for explosive and effusive eruptions.\n",
        "*   **All** Melt Compositions:\n",
        "    * Null Hypothesis: For [COMPOUND] there is no significant difference which indicates there is a difference between effusive and explosive eruption styles.\n",
        "    * Alternative Hypothesis: For [COMPOUND] there is a difference which indicates a difference between effusive and explosive eruption styles.\n",
        "\n",
        "\n",
        "\n",
        "_We also checked for *composition of magma through visual interpration of a bar graph. Since this is more categorial data, we decided to inference the conclusion from the graph._\n",
        "\n",
        "\n"
      ],
      "metadata": {
        "id": "p095syJrxl5X"
      }
    },
    {
      "cell_type": "markdown",
      "source": [
        "## Note to Instructor:\n",
        "_The following data has been presented by hypothesis. Each section will include project goals 3-7. Followed by the next hypothesis and its code, comments, plans, analysis, and disussion._\n"
      ],
      "metadata": {
        "id": "yT_8vpVM7O0a"
      }
    },
    {
      "cell_type": "markdown",
      "source": [
        "## Composition of Magma"
      ],
      "metadata": {
        "id": "itTOJp5n4s60"
      }
    },
    {
      "cell_type": "code",
      "source": [
        "import pandas as pd\n",
        "\n",
        "#import data from data set\n",
        "data = pd.read_excel (r'PHYS267_DataSet_Geophysics_VolcanicEruptions_DataSet (1).xlsx') \n",
        "dataframe = pd.DataFrame(data, columns=['Unnamed: 2','Unnamed: 3', 'Unnamed: 6' ], index =range(1,246))\n"
      ],
      "metadata": {
        "id": "obY3mdqn1d9B"
      },
      "execution_count": null,
      "outputs": []
    },
    {
      "cell_type": "code",
      "source": [
        "import matplotlib.pyplot as plt\n",
        "import numpy as np\n",
        "\n",
        "style_magma_temp = dataframe.values.tolist()\n",
        "\n",
        "dacite_ex = 0 \n",
        "dacite_eff = 0 \n",
        "\n",
        "rhyolite_ex = 0 \n",
        "rhyolite_eff = 0 \n",
        "\n",
        "basaltic_andesite_ex = 0 \n",
        "basaltic_andesite_eff = 0 \n",
        "\n",
        "andesite_ex = 0 \n",
        "andesite_eff = 0 \n",
        "\n",
        "obsidian_ex = 0\n",
        "obsidian_eff = 0\n",
        "\n",
        "\n",
        "for i in range(0, len(style_magma_temp)):\n",
        "    \n",
        "    if style_magma_temp[i][0]=='explosive' and style_magma_temp[i][1]=='dacite':\n",
        "        dacite_ex += 1\n",
        "        \n",
        "    if style_magma_temp[i][0]=='effusive' and style_magma_temp[i][1]=='dacite':\n",
        "        dacite_eff += 1\n",
        "        \n",
        "    if style_magma_temp[i][0]=='explosive' and style_magma_temp[i][1]=='rhyolite':\n",
        "        rhyolite_ex += 1\n",
        "        \n",
        "    if style_magma_temp[i][0]=='effusive' and style_magma_temp[i][1]=='rhyolite':\n",
        "        rhyolite_eff += 1\n",
        "        \n",
        "    if style_magma_temp[i][0]=='explosive' and style_magma_temp[i][1]=='basaltic andesite':\n",
        "        basaltic_andesite_ex += 1\n",
        "        \n",
        "    if style_magma_temp[i][0]=='effusive' and style_magma_temp[i][1]=='basaltic andesite':\n",
        "        basaltic_andesite_eff += 1\n",
        "        \n",
        "    if style_magma_temp[i][0]=='explosive' and style_magma_temp[i][1]== 'andesite':\n",
        "        andesite_ex += 1\n",
        "        \n",
        "    if style_magma_temp[i][0]=='effusive' and style_magma_temp[i][1]== 'andesite':\n",
        "        andesite_eff += 1\n",
        "        \n",
        "    if style_magma_temp[i][0]=='explosive' and style_magma_temp[i][1]== 'obsidian':\n",
        "        obsidian_ex += 1\n",
        "        \n",
        "    if style_magma_temp[i][0]=='effusive' and style_magma_temp[i][1]== 'obsidian':\n",
        "        obsidian_eff += 1\n",
        "        \n",
        "magma = ['Andesite', 'Basaltic Andesite', 'Dacite', 'Obsidian', 'Rhyolite']\n",
        "\n",
        "explosive = [andesite_ex, basaltic_andesite_ex, dacite_ex, obsidian_ex, rhyolite_ex]\n",
        "effusive = [andesite_eff, basaltic_andesite_eff, dacite_eff, obsidian_eff, rhyolite_eff]\n",
        "\n",
        "ind = np.arange(len(magma))\n",
        "\n",
        "fig, ax = plt.subplots()\n",
        "ax.bar(ind, explosive, color='royalblue', label = 'Explosive', width=0.1, linewidth=0.75, edgecolor=\"royalblue\")\n",
        "ax.bar(ind+0.1, effusive, color='orange', label = 'Effusive', width=0.1, linewidth=0.75, edgecolor=\"orange\")\n",
        "ax.legend()\n",
        "ax.set_title('Number of Eruptions per Magma Type and Eruption Type', fontsize=10, fontweight='bold')\n",
        "ax.set_xticklabels(magma)\n",
        "fig.autofmt_xdate(rotation=45)\n",
        "ax.set_xticks(ind)\n",
        "ax.set_ylabel('Number of Eruptions', fontsize=10, fontweight = 'bold')\n",
        "ax.set_xlabel('Magma Type', fontsize=10, fontweight = 'bold')\n",
        "plt.show()\n"
      ],
      "metadata": {
        "colab": {
          "base_uri": "https://localhost:8080/",
          "height": 330
        },
        "id": "rK8JQ_xM15X1",
        "outputId": "e0213d96-51a7-4759-9132-2dd581c19062"
      },
      "execution_count": null,
      "outputs": [
        {
          "output_type": "display_data",
          "data": {
            "text/plain": [
              "<Figure size 432x288 with 1 Axes>"
            ],
            "image/png": "[encoded data removed]"
          },
          "metadata": {
            "needs_background": "light"
          }
        }
      ]
    },
    {
      "cell_type": "markdown",
      "source": [
        "### Comment on Results / Discussion\n"
      ],
      "metadata": {
        "id": "WFBgeX_4u1Hr"
      }
    },
    {
      "cell_type": "markdown",
      "source": [
        "Since there isn't much data to statistically test for this proportion of anaylsis. We will just comment on the results and discuss conclusions based off them:\n",
        "\n",
        "The bar graph above shows the frequencies of eruptive style for each magma type. The magma composition names are andesite, basaltic andesite, dacite, obsidian, and rhyolite. From our data set we can see that there were more effusive eruptions for andesite, dacite, and obsidian. There were more explosive eruptions for basaltic andesite, and rhyolite. Although there are indications of which magma compositions have more explosive and effusive eruptions, this graph does not indicate a clear answer to which magma types have which eruptions.  "
      ],
      "metadata": {
        "id": "SCuKl5VNu7wO"
      }
    },
    {
      "cell_type": "markdown",
      "source": [
        "## Storage Temperature (C)"
      ],
      "metadata": {
        "id": "xsfWkNIp4zhB"
      }
    },
    {
      "cell_type": "code",
      "source": [
        "effusive_temp = []\n",
        "explosive_temp = []\n",
        "\n",
        "\n",
        "for i in range(0,len(style_magma_temp)):\n",
        "    \n",
        "    if style_magma_temp[i][0]=='explosive' and str(style_magma_temp[i][2]) != 'nan' :\n",
        "        explosive_temp.append(style_magma_temp[i][2])\n",
        "        \n",
        "    if style_magma_temp[i][0]=='effusive' and str(style_magma_temp[i][2])!='nan':\n",
        "        effusive_temp.append(style_magma_temp[i][2])\n",
        "        \n",
        "fig1, axis1 = plt.subplots()\n",
        "axis1.hist(explosive_temp, bins=15, density=True, alpha=0.2, label='Explosive') \n",
        "axis1.hist(effusive_temp, bins=15, density=True, alpha=0.2, color='red', label='Effusive')\n",
        "plt.xlabel(\"Temperatures\")\n",
        "plt.legend()\n",
        "plt.ylabel(\"Frequency\")\n",
        "plt.title(\"Temperature Distribution\")\n",
        "\n",
        "fig1, axis2 = plt.subplots()\n",
        "axis2.hist(explosive_temp, bins=10, density=True, label='Explosive') \n",
        "plt.xlabel(\"Temperatures\")\n",
        "plt.legend()\n",
        "plt.ylabel(\"Frequency\")\n",
        "plt.title(\"Temperature Distribution Explosive\")\n",
        "\n",
        "fig1, axis3 = plt.subplots()\n",
        "axis3.hist(effusive_temp, bins=10, density=True, color='red', label='Effusive')\n",
        "plt.xlabel(\"Temperatures\")\n",
        "plt.legend()\n",
        "plt.ylabel(\"Frequency\")\n",
        "plt.title(\"Temperature Distribution Effusive\")\n",
        "\n",
        "plt.show()"
      ],
      "metadata": {
        "colab": {
          "base_uri": "https://localhost:8080/",
          "height": 851
        },
        "id": "KQROk98V1_19",
        "outputId": "83562d3a-2237-4fbb-ee56-00cae3db0a68"
      },
      "execution_count": null,
      "outputs": [
        {
          "output_type": "display_data",
          "data": {
            "text/plain": [
              "<Figure size 432x288 with 1 Axes>"
            ],
            "image/png": "[encoded data removed]"
          },
          "metadata": {
            "needs_background": "light"
          }
        },
        {
          "output_type": "display_data",
          "data": {
            "text/plain": [
              "<Figure size 432x288 with 1 Axes>"
            ],
            "image/png": "[encoded data removed]"
          },
          "metadata": {
            "needs_background": "light"
          }
        },
        {
          "output_type": "display_data",
          "data": {
            "text/plain": [
              "<Figure size 432x288 with 1 Axes>"
            ],
            "image/png": "[encoded data removed]"
          },
          "metadata": {
            "needs_background": "light"
          }
        }
      ]
    },
    {
      "cell_type": "code",
      "source": [
        "from scipy.stats import skew, kurtosis\n",
        "\n",
        "print(\"Moments Explosive\")\n",
        "mean=np.mean(explosive_temp)\n",
        "print(\"Mean:\", mean)\n",
        "variance = np.var(explosive_temp)\n",
        "print(\"Varaince:\", variance)\n",
        "skew = skew(explosive_temp)\n",
        "print(\"Skew:\", skew)\n",
        "kurt = kurtosis(explosive_temp)\n",
        "print(\"Kurtosis:\", kurt+3)\n",
        "\n",
        "\n",
        "\n",
        "from scipy.stats import skew, kurtosis\n",
        "\n",
        "\n",
        "print(\"\\nMoments Effusive\")\n",
        "mean=np.mean(effusive_temp)\n",
        "print(\"Mean:\", mean)\n",
        "variance = np.var(effusive_temp)\n",
        "print(\"Varaince:\", variance)\n",
        "Skew = skew(effusive_temp)\n",
        "print(\"Skew:\", Skew)\n",
        "kurt = kurtosis(effusive_temp)\n",
        "print(\"Kurtosis:\", kurt+3)\n"
      ],
      "metadata": {
        "colab": {
          "base_uri": "https://localhost:8080/"
        },
        "id": "FlhU_7p02NAY",
        "outputId": "acad2442-27ed-4260-a0de-768534a3785d"
      },
      "execution_count": null,
      "outputs": [
        {
          "output_type": "stream",
          "name": "stdout",
          "text": [
            "Moments Explosive\n",
            "Mean: 833.6666666666666\n",
            "Varaince: 2061.555555555555\n",
            "Skew: 0.29540501400947156\n",
            "Kurtosis: 3.286812590085145\n",
            "\n",
            "Moments Effusive\n",
            "Mean: 832.4621212121212\n",
            "Varaince: 5042.9909894398525\n",
            "Skew: 0.10746239615828067\n",
            "Kurtosis: 1.8321021063825325\n"
          ]
        }
      ]
    },
    {
      "cell_type": "code",
      "source": [
        "#temperature leads to discretion of eruptive style\n",
        "\n",
        "import scipy.stats as stats\n",
        "\n",
        "u, pval = stats.mannwhitneyu(effusive_temp, explosive_temp, alternative='two-sided')\n",
        "\n",
        "print(\"U Statistic:\", u, \"| p-Value:\", pval)\n",
        "\n",
        "if pval < 0.05:\n",
        "    print(\"Since p-value < 0.05, we can reject the null hypothesis; concluding there is a difference\")\n",
        "else:\n",
        "    print(\"Since p-value > 0.05, we accept the null hypothesis; concluding there is no difference\")"
      ],
      "metadata": {
        "colab": {
          "base_uri": "https://localhost:8080/"
        },
        "id": "BrL2NFJE2YyR",
        "outputId": "2bfbcb3b-aae1-46de-b74c-fefff76b6754"
      },
      "execution_count": null,
      "outputs": [
        {
          "output_type": "stream",
          "name": "stdout",
          "text": [
            "U Statistic: 6843.5 | p-Value: 0.8694581996241515\n",
            "Since p-value > 0.05, we accept the null hypothesis; concluding there is no difference\n"
          ]
        }
      ]
    },
    {
      "cell_type": "markdown",
      "source": [
        "### Comment on Results:"
      ],
      "metadata": {
        "id": "lxQerkLIvlZn"
      }
    },
    {
      "cell_type": "markdown",
      "source": [
        "These are histograms that demonstrate the distribution of temperature for explosive and effusive eruptive styles. The top two plots show the individual distributions. The bottom distribution visualizes the contrast in the eruptive style temperature frequencies."
      ],
      "metadata": {
        "id": "5FVfB9B-JuG-"
      }
    },
    {
      "cell_type": "markdown",
      "source": [
        "### Plan of Analysis:\n"
      ],
      "metadata": {
        "id": "LaCHx2-QIgNl"
      }
    },
    {
      "cell_type": "markdown",
      "source": [
        "According to the literature the eruptive style of volcanos is largely dependent on viscosity. The storage temperature leads to different viscosity. We will test for the temperatures of the explosive eruptions and the temperatures of the effusive eruptions to see if there is a difference between the two data sets. \n",
        "\n",
        "The question we will try to answer is:\n",
        "  Is there a difference in storage temperatures of magma for different volcanic eruptions? \n"
      ],
      "metadata": {
        "id": "Dc18ccwNwHjR"
      }
    },
    {
      "cell_type": "markdown",
      "source": [
        "### Analysis:"
      ],
      "metadata": {
        "id": "W2iIbyovw7R5"
      }
    },
    {
      "cell_type": "markdown",
      "source": [
        "Above in the code you will find histograms that demonstrate the distribution of temperature for explosive and effusive eruptive styles. The bottom two plots show the individual distributions. The top distribution visualizes the contrast in the eruptive style temperature frequencies. Effusive eruptions happen within the range of 710°C - 980°C. Explosive eruptions occur within the range of 750°C-920°C. A small number of outliers exceed that range and reach the temperature of 1000°C. It is evident that the effusive distribution has a greater spread than the explosive distribution. \n",
        "\n",
        "| Eruptive Style | Mean   | Variance | Skew | Kurtosis |\n",
        "|----------------|--------|----------|------|----------|\n",
        "| Effusive       | 832.46 | 5042.99  | 0.11 | 1.83     |\n",
        "| Explosive      | 833.67 | 2061.56  | 0.30 | 3.29     |\n",
        "\n",
        "The moments for the distribution do not align with the moments of normal distributions; therefore, neither eruptive style temperature distributions are normal. The effusive distribution has two peaks, this is an indication of a bimodal distribution. In addition, it has a skewness of 0.11. This means that it is slightly skewed to the right. It has a positive kurtosis, meaning it has a sharp peak. The explosive distribution has a skewness of 0.3. This means that it is slightly skewed right. The explosive distribution is also leptokurtic as it has positive kurtosis. The explosive distribution has a sharper peak than the effusive distribution because the kurtosis is greater. \n",
        "\n",
        "Previously we concluded that our data set for the storage temperatures were not normally distributed. This means that we must use a non-parametric statistical test to test our hypothesis. We also know that we have two data sets that are independent of each other. We want to know if there is a difference between the effusive and explosive storage temperatures. For all of those reasons we can use the Mann Whitney test. \n",
        "\n",
        "| Test Statistic | P Value |\n",
        "|----------------|---------|\n",
        "| U = 6843.5     | 0.8946  |\n",
        "\n",
        "\n"
      ],
      "metadata": {
        "id": "isU4KgD5w-nP"
      }
    },
    {
      "cell_type": "markdown",
      "source": [
        "### Discussion:\n"
      ],
      "metadata": {
        "id": "PuNNMNOKyER2"
      }
    },
    {
      "cell_type": "markdown",
      "source": [
        "In conclusion, the null hypothesis is accepted and there is no difference in the storage temperatures for explosive or effusive eruptions. \n",
        "\n",
        "The bar graphs of eruptive frequencies and magma composition type did not show any definite correlation between frequencies and magma composition. This is because each magma composition except for obsidian has cause both types of eruptions. Therefore, we can visually conclude that the magma composition categories alone, do not have a notable effect on whether an eruption is explosive or effusive. Further analysis can be done to see what categorizes a magma type based on the chemical compounds. Then based on the physical characteristics of the magma compositions a conclusion could be made about what causes a effusive or explosive eruption.  \n",
        "\n",
        "We analyzed the effusive and explosive storage temperatures by using the Mann Whitney test. This test was used to find a difference between the data sets. The test statistic we found was the U statistic. The smaller U is the less likely it is that these distributions occurred by chance. U is large, this means that these distributions are highly likely to have occurred by chance. Since the p-value is greater than 0.05 we must accept the null hypothesis. Accepting the null hypothesis means that there is no difference between effusive storage temperatures and explosive storage temperatures. \n",
        "\n",
        "The temperature distributions align with statistical analysis. Effusive eruptions happen within the range of 710°C - 980°C. Explosive eruptions occur within the range of 750°C-920°C. A small number of outliers exceed that range and reach the temperature of 1000°C. It is evident that the effusive distribution has a greater spread than the explosive distribution.This is similar to values found in literature; a range of 700°C - 900°C for explosive eruptions and a range of 700°C - 1000°C for effusive eruptions. "
      ],
      "metadata": {
        "id": "bCS7jUudyG42"
      }
    },
    {
      "cell_type": "markdown",
      "source": [
        "## Dissolved Water (%wt)"
      ],
      "metadata": {
        "id": "BcY-WXXc44kz"
      }
    },
    {
      "cell_type": "code",
      "execution_count": null,
      "metadata": {
        "id": "oWKjh9B4l8SR",
        "colab": {
          "base_uri": "https://localhost:8080/",
          "height": 399
        },
        "outputId": "6b84d6cd-7e70-4966-8cee-b132ea767fb9"
      },
      "outputs": [
        {
          "output_type": "display_data",
          "data": {
            "text/plain": [
              "<Figure size 432x288 with 1 Axes>"
            ],
            "image/png": "[encoded data removed]"
          },
          "metadata": {
            "needs_background": "light"
          }
        },
        {
          "output_type": "stream",
          "name": "stdout",
          "text": [
            "Checking if there is a difference between the two sets of data.\n",
            "We can compare the probability in three ranges based on the graph in order to get a sense of which type of eruption will more likely occur.\n",
            "Our ranges will go from 3.0-4.0, 4.0-5.5, 5.5-7, we obtain these regions from the visual interpratation of the graph.\n",
            "Effusive Volcano's are more likely to occur from 3.0-4.0 water denisty (wt%) by approximately 83.82352941176471 %\n",
            "Explosive Volcano's are more likely to occur from 4.0-5.5 water denisty (wt%) by approximately 79.13043478260869 %\n",
            "Effusive Volcano's are more likely to occur from 5.5-7.0 water denisty (wt%) by approximately 87.03703703703704 %\n"
          ]
        }
      ],
      "source": [
        "\n",
        "import matplotlib.pyplot as plt\n",
        "from openpyxl import Workbook, load_workbook\n",
        "import numpy as np\n",
        "\n",
        "data = load_workbook(filename='DataSet.xlsx')\n",
        "sheet = data.active\n",
        "\n",
        "eruptiveStyle = []\n",
        "dissolvedWater = []\n",
        "for i in range(3,248):\n",
        "    eruptiveStyle.append(sheet.cell(row=i, column=3).value)\n",
        "    dissolvedWater.append(sheet.cell(row=i, column=5).value)\n",
        "\n",
        "indexStyleEf = -1\n",
        "indexStyleEx = -1\n",
        "posEffusive = []\n",
        "posExplosive = []\n",
        "while True:\n",
        "    try:\n",
        "        indexStyleEf = eruptiveStyle.index('effusive', indexStyleEf+1)\n",
        "        posEffusive.append(indexStyleEf)\n",
        "    except ValueError:\n",
        "        break\n",
        "\n",
        "while True:\n",
        "    try:\n",
        "        indexStyleEx = eruptiveStyle.index('explosive', indexStyleEx+1)\n",
        "        posExplosive.append(indexStyleEx)\n",
        "    except ValueError:\n",
        "        break\n",
        "\n",
        "EffusiveWater = []\n",
        "ExplosiveWater = []\n",
        "for x in posEffusive:\n",
        "    EffusiveWater.append(dissolvedWater[x])\n",
        "\n",
        "for y in posExplosive:\n",
        "    ExplosiveWater.append(dissolvedWater[y])\n",
        "\n",
        "plt.hist(ExplosiveWater, bins=30, alpha=0.2, color='red', histtype=\"stepfilled\", density=True, label=\"Explosive\")\n",
        "plt.hist(EffusiveWater, bins=30, alpha=0.2, color='blue', histtype='stepfilled', density=True, label=\"Effusive\")\n",
        "plt.legend(loc='upper right')\n",
        "plt.title(\"Average Water Dissolved (wt%) for Effusive and Explosive eruptions\")\n",
        "plt.xlabel(\"(wt%)\")\n",
        "plt.ylabel(\"Frequency\")\n",
        "plt.show()\n",
        "\n",
        "\n",
        "print(\"We can compare the probability in three ranges based on the graph in order to get a sense of which type of eruption will more likely occur.\")\n",
        "print(\"Our ranges will go from 3.0-4.0, 4.0-5.5, 5.5-7, we obtain these regions from the visual interpratation of the graph.\")\n",
        "\n",
        "e1t = 0\n",
        "e2t = 0\n",
        "e3t = 0 \n",
        "ef1t = 0\n",
        "ef2t = 0\n",
        "ef3t = 0\n",
        "for i in ExplosiveWater:\n",
        "    if i < 4.0:\n",
        "        e1t += 1\n",
        "    elif i > 4.0 and i < 5.5:\n",
        "        e2t += 1\n",
        "    elif i > 5.5 and i < 7:\n",
        "        e3t += 1\n",
        "\n",
        "for j in EffusiveWater:\n",
        "    if j < 4.0:\n",
        "        ef1t += 1\n",
        "    elif j > 4.0 and j < 5.5:\n",
        "        ef2t += 1\n",
        "    elif j > 5.5 and j < 7:\n",
        "        ef3t += 1\n",
        "\n",
        "if e1t > ef1t:\n",
        "    percente1 = (e1t/(e1t+ef1t))*100 \n",
        "    print(\"Explosive Volcano's are more likely to occur from 3.0-4.0 water denisty (wt%) by approximately\", percente1, \"%\")\n",
        "else:\n",
        "    percentef1 = (ef1t/(e1t+ef1t))*100 \n",
        "    print(\"Effusive Volcano's are more likely to occur from 3.0-4.0 water denisty (wt%) by approximately\", percentef1, \"%\")\n",
        "if e2t > ef2t:\n",
        "    percente2 = (e2t/(e2t+ef2t))*100 \n",
        "    print(\"Explosive Volcano's are more likely to occur from 4.0-5.5 water denisty (wt%) by approximately\", percente2, \"%\")\n",
        "else:\n",
        "    percentef2 = (ef2t/(e2t+ef2t))*100\n",
        "    print(\"Effusive Volcano's are more likely to occur from 4.0-5.5 water denisty (wt%) by approximately\", percentef2, \"%\")\n",
        "if e3t > ef3t:\n",
        "    percente3 = (e3t/(e3t+ef3t))*100\n",
        "    print(\"Explosive Volcano's are more likely to occur from 5.5-7.0 water denisty (wt%) by approximately\", percente3, \"%\")\n",
        "else:\n",
        "    percentef3 = (ef3t/(e3t+ef3t))*100\n",
        "    print(\"Effusive Volcano's are more likely to occur from 5.5-7.0 water denisty (wt%) by approximately\", percentef3, \"%\")"
      ]
    },
    {
      "cell_type": "markdown",
      "source": [
        "### Comment of Results:"
      ],
      "metadata": {
        "id": "dJ8Lf2af6ERu"
      }
    },
    {
      "cell_type": "markdown",
      "source": [
        "Through this portion of anaylsis and acception / rejection of null hypothesis, we're testing whether or not eruptive style is influenced by the water dissolved amount (%wt) within the magma. To do this, we imported and seperated the water disolved amount sample into its respective \"eruptive style\" from the data sheet. From this we are able to conduct hypothesis testing when appropriate on all portions of data. For this specific sample, we notice there is a clear difference between explosive and effusive eruptions in the distribution graph \"Average Water Dissolved (wt%) for Effusive and Explosive Eruptions\".\n",
        "\n",
        "For the explosive distribution, we notice a very normal distribution (parametric). This distribution indicates most explosive volcanos have a specific water dissolved (wt%) amount in which they fall to. \n",
        "\n",
        "The distribution for effusive is much different. Where this is a bi-modial distribution, peaks where explosive results begin to fade. This makes it very easy to interperate. In both cases, there is of course potential for either one to fall in these ranges, but much less significantly. "
      ],
      "metadata": {
        "id": "0Chgx3Zf6Ztg"
      }
    },
    {
      "cell_type": "markdown",
      "source": [
        "### Plan of Analysis:"
      ],
      "metadata": {
        "id": "I8j2Buq86Hhg"
      }
    },
    {
      "cell_type": "markdown",
      "source": [
        "For this specific set of data, it is much harder to preform a t-test, such as the Mann-Whittney Test since both of these distributions are different. Instead of preforming a hypothesis test, we can conduct a filtering technique to determine which is more likely to occur within specific ranges. This technique will allow us to approximate ranges and test which is more probable within a specific range. From that, we can conclude whether or not it is enough information to reject or accept the null hypothesis. Additionally, I plan on visually interprating the graph and inferencing conclusions from it. \n"
      ],
      "metadata": {
        "id": "M2sPU3m46K7Q"
      }
    },
    {
      "cell_type": "markdown",
      "source": [
        "### Analysis:"
      ],
      "metadata": {
        "id": "2v2K24Tg6Qkc"
      }
    },
    {
      "cell_type": "markdown",
      "source": [
        "After implimenting my filtering system which will score which eruptive style is more likely to occur within specific ranges, it became very apparent that effusive styles have ~83.8% chance of occuring in the ranges of 3.0-4.0 additionally, on the other side of the explosive distribution, they have ~87.0% chance of occuring in the range 5.5-7.0. Explosive eruptions have ~79.1% chance of occuring in the ranges 4.0-5.5.\n",
        "\n",
        "After looking and understanding the graph, I chose these ranges based on analyzing the graph. It was clear there was some difference between the two distributions. To conduct a hypothesis test on these data sets, it would require for them to be non-parametric and relatively close to the same shape. The filtering system in-turn allowed us to get more statistics on the data and provided us with a better tool to reject the null. "
      ],
      "metadata": {
        "id": "VkR78oT56YlV"
      }
    },
    {
      "cell_type": "markdown",
      "source": [
        "### Discussion:"
      ],
      "metadata": {
        "id": "fpfXWZDc6Wkj"
      }
    },
    {
      "cell_type": "markdown",
      "source": [
        "These values and distributions clearly show a difference between the two graphs. These values agree significantly well with the literature values, where explosive eruptions are most likely to occur within the range of ~4.0-5.5 water dissolved (wt%) (Popa. R-G, 2021). Since our values align with the literature values, we it is safe to say our analysis of water denisity, and its effect on eruptive style, is effective. In conclusion, since there is a very large probability for specific ranges, it is reasonable to reject the null hypothesis and to say: Dissolved Water (wt%) is one of the initial conditions which parameterizes if a eruptive style will be effusive or explosive. "
      ],
      "metadata": {
        "id": "0HzrR8Jj6ZE-"
      }
    },
    {
      "cell_type": "markdown",
      "source": [
        "## Crystallinity (%vol)"
      ],
      "metadata": {
        "id": "OjsN8N5Y3iNy"
      }
    },
    {
      "cell_type": "code",
      "source": [
        "\n",
        "data = load_workbook(filename='DataSet.xlsx')\n",
        "sheet = data.active\n",
        "\n",
        "crystal = []\n",
        "for i in range(3,248):\n",
        "    crystal.append(sheet.cell(row=i, column=6).value)\n",
        "\n",
        "\n",
        "EffusiveCrystal = []\n",
        "ExplosiveCrystal = []\n",
        "for x in posEffusive:\n",
        "    EffusiveCrystal.append(crystal[x])\n",
        "\n",
        "for y in posExplosive:\n",
        "    ExplosiveCrystal.append(crystal[y])\n",
        "\n",
        "\n",
        "\n",
        "plt.hist(ExplosiveCrystal, bins=15, alpha=0.2, color='red', histtype=\"stepfilled\", density=True, label=\"Explosive\")\n",
        "plt.hist(EffusiveCrystal, bins=15, alpha=0.2, color='blue', histtype='stepfilled', density=True, label=\"Effusive\")\n",
        "plt.legend(loc='upper right')\n",
        "plt.title(\"Crystallinity (vol%) for Effusive and Explosive eruptions\")\n",
        "plt.xlabel(\"Crystallinity (vol%)\")\n",
        "plt.ylabel(\"Frequency\")\n",
        "plt.show()\n",
        "\n",
        "import scipy.stats as stats\n",
        "\n",
        "print(\"Null Hypothesis: There is no significant difference between Explosive and Effusive erruptions for crystallinity (vol%)\")\n",
        "print(\"Alternative Hypothesis: There is a difference between Explosive and Effusive erruptions for crystallinity (vol%)\")\n",
        "print(\"Non-parametric, 2 sample t-test: Mann Whitnety Test\")\n",
        "tPA, pValPA = stats.mannwhitneyu(ExplosiveCrystal, EffusiveCrystal)\n",
        "print(\"t-statistic:\", tPA, \"| P-Value:\", pValPA)\n",
        "if pValPA < 0.05:\n",
        "    print(\"p < 0.05, null hypothesis is rejected: There is a difference between Explosive and Effusive erruptions for crystallinity (vol%)\")\n",
        "else:\n",
        "    print(\"p > 0.05, null hypothesis is accepted: There is no difference between Explosive and Effusive erruptions for crystallinity (vol%)\")\n",
        "\n",
        "print(\"Similar to how we found the ranges for Water Density, we can find specific area's in the graph where it is more probable to find effusive or explosive volcanos based on their crystallinity (vol%)\")\n",
        "\n",
        "data = np.arange(5,65, 5)\n",
        "prev = -5\n",
        "percarrayex = []\n",
        "percarrayef = []\n",
        "for i in data:\n",
        "    ext = 0\n",
        "    eft = 0\n",
        "    prev += 5\n",
        "    \n",
        "    for j in ExplosiveCrystal:\n",
        "        if j < i:\n",
        "            ext += 1\n",
        "\n",
        "    for k in EffusiveCrystal:\n",
        "        if k < i:\n",
        "            eft += 1\n",
        "\n",
        "    if ext > eft:\n",
        "        percentex = (ext/(ext+eft))*100       \n",
        "        percarrayex.append(percentex)\n",
        "        print(\"Explosive Erruptions are more common in range\",prev,\"-\",i,\"(vol%) crystallinity by approximately\", percentex,\"%\")\n",
        "    else:\n",
        "        percentef = (eft/(ext+eft))*100\n",
        "        percarrayef.append(percentef)\n",
        "        print(\"Effusive Erruptions are more common in range\",prev,\"-\",i,\"(vol%) crystallinity by approximately\", percentef, \"%\")\n",
        "\n",
        "print(\"For ranges 0-40 an explosive eruption is\", np.mean(percarrayex), \"% more likely to happen than effusive.\")\n",
        "print(\"For ranges 40-60 an effusive eruption is\", np.mean(percarrayef), \"% more likely to happen than explosive.\")"
      ],
      "metadata": {
        "colab": {
          "base_uri": "https://localhost:8080/",
          "height": 642
        },
        "id": "D4XiaKusLa0P",
        "outputId": "2f9e0009-d0a4-4e81-b1b2-386eb5a5fabf"
      },
      "execution_count": null,
      "outputs": [
        {
          "output_type": "display_data",
          "data": {
            "text/plain": [
              "<Figure size 432x288 with 1 Axes>"
            ],
            "image/png": "[encoded data removed]"
          },
          "metadata": {
            "needs_background": "light"
          }
        },
        {
          "output_type": "stream",
          "name": "stdout",
          "text": [
            "Null Hypothesis: There is no significant difference between Explosive and Effusive erruptions for crystallinity (vol%)\n",
            "Alternative Hypothesis: There is a difference between Explosive and Effusive erruptions for crystallinity (vol%)\n",
            "Non-parametric, 2 sample t-test: Mann Whitnety Test\n",
            "t-statistic: 5405.5 | P-Value: 0.00010864477458729326\n",
            "p < 0.05, null hypothesis is rejected: There is a difference between Explosive and Effusive erruptions for crystallinity (vol%)\n",
            "Similar to how we found the ranges for Water Density, we can find specific area's in the graph where it is more probable to find effusive or explosive volcanos based on their crystallinity (vol%)\n",
            "Explosive Erruptions are more common in range 0 - 5 (vol%) crystallinity by approximately 62.5 %\n",
            "Explosive Erruptions are more common in range 5 - 10 (vol%) crystallinity by approximately 61.224489795918366 %\n",
            "Explosive Erruptions are more common in range 10 - 15 (vol%) crystallinity by approximately 57.692307692307686 %\n",
            "Explosive Erruptions are more common in range 15 - 20 (vol%) crystallinity by approximately 53.46534653465347 %\n",
            "Explosive Erruptions are more common in range 20 - 25 (vol%) crystallinity by approximately 52.0 %\n",
            "Explosive Erruptions are more common in range 25 - 30 (vol%) crystallinity by approximately 51.31578947368421 %\n",
            "Explosive Erruptions are more common in range 30 - 35 (vol%) crystallinity by approximately 53.10734463276836 %\n",
            "Explosive Erruptions are more common in range 35 - 40 (vol%) crystallinity by approximately 52.23880597014925 %\n",
            "Effusive Erruptions are more common in range 40 - 45 (vol%) crystallinity by approximately 50.0 %\n",
            "Effusive Erruptions are more common in range 45 - 50 (vol%) crystallinity by approximately 51.73913043478261 %\n",
            "Effusive Erruptions are more common in range 50 - 55 (vol%) crystallinity by approximately 54.285714285714285 %\n",
            "Effusive Erruptions are more common in range 55 - 60 (vol%) crystallinity by approximately 54.285714285714285 %\n",
            "For ranges 0-40 an explosive eruption is 55.443010512435166 % more likely to happen than effusive.\n",
            "For ranges 40-60 an effusive eruption is 52.577639751552795 % more likely to happen than explosive.\n"
          ]
        }
      ]
    },
    {
      "cell_type": "markdown",
      "source": [
        "### Comment of Results:"
      ],
      "metadata": {
        "id": "tTGb414d6Sk4"
      }
    },
    {
      "cell_type": "markdown",
      "source": [
        "In this hypothesis, I wanted to check whether there was a difference between the crystallinity in explosive and effusive eruptions. From the graph printed, it visually shows there is a range from 40%vol towards 60%vol where effusive eruptions are more prominant. This lead to me to want to check specific ranges of the various crystallinity to find where specific eruptions are more prominant. Visually they appear to be both more equally frequent from ranges 0-40%. "
      ],
      "metadata": {
        "id": "iP21f1WU6opD"
      }
    },
    {
      "cell_type": "markdown",
      "source": [
        "### Plan of Analysis:"
      ],
      "metadata": {
        "id": "CoYtyKA-6dOj"
      }
    },
    {
      "cell_type": "markdown",
      "source": [
        "For this specific hypothesis/set of data. I decided to to a t-test on both samples of data. I will check the distribution to find if it is parametric or non-parametric. Then from there use the appropriate two-sample test. This way I will be able to compare the two sets of data and determine whether they are similar or not. Additionally, I wanted to use a filtering system to determine whether or not one was more prominant in specific areas. I did this by creating a nested for loop to check if there where more \"effusive\" or \"explosive\" erruptions. We can then use this to find the range of where these erruptions are more prominent to exist. "
      ],
      "metadata": {
        "id": "E7SmjLpv6pln"
      }
    },
    {
      "cell_type": "markdown",
      "source": [
        "### Analysis:"
      ],
      "metadata": {
        "id": "8dJ3CPbe6fZz"
      }
    },
    {
      "cell_type": "markdown",
      "source": [
        "After determining that that both sets of data are non-parametric, I used the Mann-Whitney test to check whether or not the their distributions were related/similar. From this I found that their distributions are different, by a small amount. This was enough of a conclusion to begin the next step of my analysis. I wanted to find where these distributions are different. Visually, we can see that explosive and effusive erruptions can both exist in the range of 0-40%vol. I generated a filtering system using nested for loops to check over the range of crystallinity to find where the specific erruptions are more prominant. In the ranges (incrimented by 5[vol%]) 0-40%vol crystallinity, explosive erruptions are more prominant by ~55.4%. While effusive eruptions are ~52.5% more prominant in the range 40-60%vol crystallinity. "
      ],
      "metadata": {
        "id": "_AHHXV7V6qVB"
      }
    },
    {
      "cell_type": "markdown",
      "source": [
        "### Discussion"
      ],
      "metadata": {
        "id": "Ar-ugbQo6jRg"
      }
    },
    {
      "cell_type": "markdown",
      "source": [
        "Compared to literature values, we notice that my values for crystallinity are relatively similar. In my analysis, we found that there is a difference between eruptive styles when classifying the crystallinity of its magma. It is 55.4% more likely an eruption will be explosive in the ranges of 0-40%vol crystallinity, and 52.5% more likely an effusive eruption will occur in the range of 40-60%vol crystallinity. The literature values suggest that the range of effusive erruptions are more prominant is >30%vol crystallinity (Popa. R-G, 2021). From this, we can agree that our analysis is repersentative of the data shown, with about 33.33% accuracy. This high proportion of accuracy might be an indication to the step-size of our filtering system used. Incrimented by 5's and the bin-size of our histogram might show data which is being categorized up or down. To improve accuracy, I would increase the step size of my filtering system.\n",
        "\n",
        "In conclusion, it is reasonable to suggest crystallinity does play a role in determining whether or not a volcano's eruptive style will be effusive or explosive. "
      ],
      "metadata": {
        "id": "g-OCflLJ6q1_"
      }
    },
    {
      "cell_type": "markdown",
      "source": [
        "## Melt Composition (%wt):\n"
      ],
      "metadata": {
        "id": "iBVALPVo4C9A"
      }
    },
    {
      "cell_type": "markdown",
      "source": [
        "### Silica"
      ],
      "metadata": {
        "id": "7eqip8yk3nk4"
      }
    },
    {
      "cell_type": "code",
      "source": [
        "## SILICA\n",
        "\n",
        "# Import required functions\n",
        "import numpy as np\n",
        "import matplotlib.pyplot as plt\n",
        "import scipy.stats as stats\n",
        "\n",
        "# Import data file containing whether the eruptions is effusive or explosive and\n",
        "# the percent composition of lava \n",
        "data=np.genfromtxt(\"Eruption Type and Composition.txt\",dtype=\"str\")\n",
        "\n",
        "# Isolate type of eruption and silica content \n",
        "exp_type=data[:,0]\n",
        "silica=data[:,1]\n",
        "\n",
        "# Group silica content for effusive versus explosive eruption\n",
        "explosive=[]\n",
        "effusive=[]\n",
        "for i in range(len(silica)):\n",
        "  if exp_type[i]==\"explosive\":\n",
        "    explosive.append(float(silica[i]))\n",
        "  elif exp_type[i]==\"effusive\":\n",
        "    effusive.append(float(silica[i]))\n",
        "explosive.sort()\n",
        "effusive.sort()\n",
        "\n",
        "\n",
        "# Generate a histogram of silica content for explosive and effusive eruptions\n",
        "plt.figure(figsize=(10,8))\n",
        "plt.hist(explosive,bins=12,label=\"explosive\")\n",
        "plt.hist(effusive,bins=12,label=\"effusive\",alpha=0.3)\n",
        "plt.legend(loc=\"best\")\n",
        "plt.xlabel(\"Silica Percentage\")\n",
        "plt.ylabel(\"Frequency\")\n",
        "plt.title(\"Figure: 7 Frequency of Effusive and Explosive Eruptions with Lava Silica Content\")\n",
        "plt.show()\n",
        "\n",
        "# Check if each are parametric \n",
        "exp_stat,exp_p=stats.normaltest(explosive)\n",
        "eff_stat,eff_p=stats.normaltest(effusive)\n",
        "\n",
        "if (exp_p>0.05) and (eff_p>0.05):\n",
        "  print(\"Both are normal, use parametric test\")\n",
        "else:\n",
        "  print(\"One or both are not normal, use non-parametric test\")\n",
        "\n",
        "# One of them is not normal, use Mann-Whitney Unpaired Test\n",
        "u_stat,p=stats.mannwhitneyu(explosive,effusive)\n",
        "\n",
        "if p<0.05:\n",
        "  print(\"The two distributions are different. It appears explosive reactions depend on silica content\")\n",
        "else:\n",
        "  print(\"The two distributions are similar. It is not clear if explosive reactions depend on silica content.\")\n",
        "\n",
        "print(\"Explosive mean\",np.mean(explosive))\n",
        "print(\"Effusive mean\",np.mean(effusive))"
      ],
      "metadata": {
        "colab": {
          "base_uri": "https://localhost:8080/",
          "height": 592
        },
        "id": "Kt4TiL9Xf4XA",
        "outputId": "bc65ba9d-b98d-444e-9738-62b746bf908a"
      },
      "execution_count": null,
      "outputs": [
        {
          "output_type": "display_data",
          "data": {
            "text/plain": [
              "<Figure size 720x576 with 1 Axes>"
            ],
            "image/png": "[encoded data removed]"
          },
          "metadata": {
            "needs_background": "light"
          }
        },
        {
          "output_type": "stream",
          "name": "stdout",
          "text": [
            "One or both are not normal, use non-parametric test\n",
            "The two distributions are similar. It is not clear if explosive reactions depend on silica content.\n",
            "Explosive mean 72.9923080802174\n",
            "Effusive mean 73.10839988186045\n"
          ]
        }
      ]
    },
    {
      "cell_type": "markdown",
      "source": [
        "### TiO2"
      ],
      "metadata": {
        "id": "GIpn89n134f5"
      }
    },
    {
      "cell_type": "code",
      "source": [
        "# TiO2\n",
        "\n",
        "\n",
        "# Import required functions\n",
        "import numpy as np\n",
        "import matplotlib.pyplot as plt\n",
        "import scipy.stats as stats\n",
        "\n",
        "# Import data file containing whether the eruptions is effusive or explosive and\n",
        "# the percent composition of lava \n",
        "data=np.genfromtxt(\"Eruption Type and Composition.txt\",dtype=\"str\")\n",
        "\n",
        "# Isolate type of eruption and TiO2 content \n",
        "exp_type=data[:,0]\n",
        "TiO2=data[:,2]\n",
        "\n",
        "# Group TiO2 content for effusive versus explosive eruption\n",
        "explosive=[]\n",
        "effusive=[]\n",
        "for i in range(len(TiO2)):\n",
        "  if exp_type[i]==\"explosive\":\n",
        "    explosive.append(float(TiO2[i]))\n",
        "  elif exp_type[i]==\"effusive\":\n",
        "    effusive.append(float(TiO2[i]))\n",
        "explosive.sort()\n",
        "effusive.sort()\n",
        "\n",
        "\n",
        "# Generate a histogram of TiO2 content for explosive and effusive eruptions\n",
        "plt.figure(figsize=(10,8))\n",
        "plt.hist(explosive,bins=12,label=\"explosive\")\n",
        "plt.hist(effusive,bins=12,label=\"effusive\",alpha=0.3)\n",
        "plt.legend(loc=\"best\")\n",
        "plt.xlabel(\"TiO2 Percentage\")\n",
        "plt.ylabel(\"Frequency\")\n",
        "plt.title(\"Figure: 8 Frequency of Effusive and Explosive Eruptions with Lava TiO2 Content\")\n",
        "plt.show()\n",
        "\n",
        "# Check if each are parametric \n",
        "exp_stat,exp_p=stats.normaltest(explosive)\n",
        "eff_stat,eff_p=stats.normaltest(effusive)\n",
        "\n",
        "if (exp_p>0.05) and (eff_p>0.05):\n",
        "  print(\"Both are normal, use parametric test\")\n",
        "else:\n",
        "  print(\"One or both are not normal, use non-parametric test\")\n",
        "\n",
        "# One of them is not normal, use Mann-Whitney Unpaired Test\n",
        "u_stat,p=stats.mannwhitneyu(explosive,effusive)\n",
        "\n",
        "if p<0.05:\n",
        "  print(\"The two distributions are different. It appears explosive reactions depend on TiO2 content\")\n",
        "else:\n",
        "  print(\"The two distributions are similar. It is not clear if explosive reactions depend on TiO2 content.\")\n",
        "\n",
        "print(\"Explosive mean\",np.mean(explosive))\n",
        "print(\"Effusive mean\",np.mean(effusive))"
      ],
      "metadata": {
        "id": "OTLIcDFkgI69",
        "colab": {
          "base_uri": "https://localhost:8080/",
          "height": 592
        },
        "outputId": "e5ee8e11-dbc2-4029-ad6e-1f0f7885b5e3"
      },
      "execution_count": null,
      "outputs": [
        {
          "output_type": "display_data",
          "data": {
            "text/plain": [
              "<Figure size 720x576 with 1 Axes>"
            ],
            "image/png": "[encoded data removed]"
          },
          "metadata": {
            "needs_background": "light"
          }
        },
        {
          "output_type": "stream",
          "name": "stdout",
          "text": [
            "One or both are not normal, use non-parametric test\n",
            "The two distributions are similar. It is not clear if explosive reactions depend on TiO2 content.\n",
            "Explosive mean 0.3299636056147826\n",
            "Effusive mean 0.3427942899096124\n"
          ]
        }
      ]
    },
    {
      "cell_type": "markdown",
      "source": [
        "### Al2O3"
      ],
      "metadata": {
        "id": "7RgB3nZv38YI"
      }
    },
    {
      "cell_type": "code",
      "source": [
        "# Al2O3\n",
        "\n",
        "\n",
        "# Import required functions\n",
        "import numpy as np\n",
        "import matplotlib.pyplot as plt\n",
        "import scipy.stats as stats\n",
        "\n",
        "# Import data file containing whether the eruptions is effusive or explosive and\n",
        "# the percent composition of lava \n",
        "data=np.genfromtxt(\"Eruption Type and Composition.txt\",dtype=\"str\")\n",
        "\n",
        "# Isolate type of eruption and Al2O3 content \n",
        "exp_type=data[:,0]\n",
        "Al2O3=data[:,3]\n",
        "\n",
        "# Group Al2O3 content for effusive versus explosive eruption\n",
        "explosive=[]\n",
        "effusive=[]\n",
        "for i in range(len(Al2O3)):\n",
        "  if exp_type[i]==\"explosive\":\n",
        "    explosive.append(float(Al2O3[i]))\n",
        "  elif exp_type[i]==\"effusive\":\n",
        "    effusive.append(float(Al2O3[i]))\n",
        "explosive.sort()\n",
        "effusive.sort()\n",
        "\n",
        "\n",
        "# Generate a histogram of Al2O3 content for explosive and effusive eruptions\n",
        "plt.figure(figsize=(10,8))\n",
        "plt.hist(explosive,bins=12,label=\"explosive\")\n",
        "plt.hist(effusive,bins=12,label=\"effusive\",alpha=0.3)\n",
        "plt.legend(loc=\"best\")\n",
        "plt.xlabel(\"Al2O3 Percentage\")\n",
        "plt.ylabel(\"Frequency\")\n",
        "plt.title(\"Figure: 9 Frequency of Effusive and Explosive Eruptions with Lava Al2O3 Content\")\n",
        "plt.show()\n",
        "\n",
        "# Check if each are parametric \n",
        "exp_stat,exp_p=stats.normaltest(explosive)\n",
        "eff_stat,eff_p=stats.normaltest(effusive)\n",
        "\n",
        "if (exp_p>0.05) and (eff_p>0.05):\n",
        "  print(\"Both are normal, use parametric test\")\n",
        "else:\n",
        "  print(\"One or both are not normal, use non-parametric test\")\n",
        "\n",
        "# One of them is not normal, use Mann-Whitney Unpaired Test\n",
        "u_stat,p=stats.mannwhitneyu(explosive,effusive)\n",
        "\n",
        "if p<0.05:\n",
        "  print(\"The two distributions are different. It appears explosive reactions depend on Al2O3 content\")\n",
        "else:\n",
        "  print(\"The two distributions are similar. It is not clear if explosive reactions depend on Al2O3 content.\")\n",
        "\n",
        "print(\"Explosive mean\",np.mean(explosive))\n",
        "print(\"Effusive mean\",np.mean(effusive))"
      ],
      "metadata": {
        "colab": {
          "base_uri": "https://localhost:8080/",
          "height": 592
        },
        "id": "Wi0xAQQwf_tv",
        "outputId": "ad1e294d-db10-45a7-9f60-4075f66ebde6"
      },
      "execution_count": null,
      "outputs": [
        {
          "output_type": "display_data",
          "data": {
            "text/plain": [
              "<Figure size 720x576 with 1 Axes>"
            ],
            "image/png": "[encoded data removed]"
          },
          "metadata": {
            "needs_background": "light"
          }
        },
        {
          "output_type": "stream",
          "name": "stdout",
          "text": [
            "One or both are not normal, use non-parametric test\n",
            "The two distributions are similar. It is not clear if explosive reactions depend on Al2O3 content.\n",
            "Explosive mean 13.575410217826091\n",
            "Effusive mean 13.564094166511628\n"
          ]
        }
      ]
    },
    {
      "cell_type": "markdown",
      "source": [
        "### FeO"
      ],
      "metadata": {
        "id": "4A78PQW_4QSE"
      }
    },
    {
      "cell_type": "code",
      "source": [
        "# FeO\n",
        "\n",
        "\n",
        "# Import required functions\n",
        "import numpy as np\n",
        "import matplotlib.pyplot as plt\n",
        "import scipy.stats as stats\n",
        "\n",
        "# Import data file containing whether the eruptions is effusive or explosive and\n",
        "# the percent composition of lava \n",
        "data=np.genfromtxt(\"Eruption Type and Composition.txt\",dtype=\"str\")\n",
        "\n",
        "# Isolate type of eruption and FeO content \n",
        "exp_type=data[:,0]\n",
        "FeO=data[:,4]\n",
        "\n",
        "# Group FeO content for effusive versus explosive eruption\n",
        "explosive=[]\n",
        "effusive=[]\n",
        "for i in range(len(FeO)):\n",
        "  if exp_type[i]==\"explosive\":\n",
        "    explosive.append(float(FeO[i]))\n",
        "  elif exp_type[i]==\"effusive\":\n",
        "    effusive.append(float(FeO[i]))\n",
        "explosive.sort()\n",
        "effusive.sort()\n",
        "\n",
        "\n",
        "# Generate a histogram of FeO content for explosive and effusive eruptions\n",
        "plt.figure(figsize=(10,8))\n",
        "plt.hist(explosive,bins=12,label=\"explosive\")\n",
        "plt.hist(effusive,bins=12,label=\"effusive\",alpha=0.3)\n",
        "plt.legend(loc=\"best\")\n",
        "plt.xlabel(\"FeO Percentage\")\n",
        "plt.ylabel(\"Frequency\")\n",
        "plt.title(\"Figure: 10 Frequency of Effusive and Explosive Eruptions with Lava FeO Content\")\n",
        "plt.show()\n",
        "\n",
        "# Check if each are parametric \n",
        "exp_stat,exp_p=stats.normaltest(explosive)\n",
        "eff_stat,eff_p=stats.normaltest(effusive)\n",
        "\n",
        "if (exp_p>0.05) and (eff_p>0.05):\n",
        "  print(\"Both are normal, use parametric test\")\n",
        "else:\n",
        "  print(\"One or both are not normal, use non-parametric test\")\n",
        "\n",
        "# One of them is not normal, use Mann-Whitney Unpaired Test\n",
        "u_stat,p=stats.mannwhitneyu(explosive,effusive)\n",
        "\n",
        "if p<0.05:\n",
        "  print(\"The two distributions are different. It appears explosive reactions depend on FeO content\")\n",
        "else:\n",
        "  print(\"The two distributions are similar. It is not clear if explosive reactions depend on FeO content.\")\n",
        "\n",
        "print(\"Explosive mean\",np.mean(explosive))\n",
        "print(\"Effusive mean\",np.mean(effusive))"
      ],
      "metadata": {
        "colab": {
          "base_uri": "https://localhost:8080/",
          "height": 592
        },
        "id": "G92Mm-tpgoF9",
        "outputId": "bbcf65cd-3bb9-4d01-a949-0e5f806b8f40"
      },
      "execution_count": null,
      "outputs": [
        {
          "output_type": "display_data",
          "data": {
            "text/plain": [
              "<Figure size 720x576 with 1 Axes>"
            ],
            "image/png": "[encoded data removed]"
          },
          "metadata": {
            "needs_background": "light"
          }
        },
        {
          "output_type": "stream",
          "name": "stdout",
          "text": [
            "One or both are not normal, use non-parametric test\n",
            "The two distributions are similar. It is not clear if explosive reactions depend on FeO content.\n",
            "Explosive mean 1.9835207580217393\n",
            "Effusive mean 1.8112879639147288\n"
          ]
        }
      ]
    },
    {
      "cell_type": "markdown",
      "source": [
        "### MgO"
      ],
      "metadata": {
        "id": "hQMC78rE4SXk"
      }
    },
    {
      "cell_type": "code",
      "source": [
        "# MgO\n",
        "\n",
        "\n",
        "# Import required functions\n",
        "import numpy as np\n",
        "import matplotlib.pyplot as plt\n",
        "import scipy.stats as stats\n",
        "\n",
        "# Import data file containing whether the eruptions is effusive or explosive and\n",
        "# the percent composition of lava \n",
        "data=np.genfromtxt(\"Eruption Type and Composition.txt\",dtype=\"str\")\n",
        "\n",
        "# Isolate type of eruption and MgO content \n",
        "exp_type=data[:,0]\n",
        "MgO=data[:,5]\n",
        "\n",
        "# Group MgO content for effusive versus explosive eruption\n",
        "explosive=[]\n",
        "effusive=[]\n",
        "for i in range(len(MgO)):\n",
        "  if exp_type[i]==\"explosive\":\n",
        "    explosive.append(float(MgO[i]))\n",
        "  elif exp_type[i]==\"effusive\":\n",
        "    effusive.append(float(MgO[i]))\n",
        "explosive.sort()\n",
        "effusive.sort()\n",
        "\n",
        "\n",
        "# Generate a histogram of MgO content for explosive and effusive eruptions\n",
        "plt.figure(figsize=(10,8))\n",
        "plt.hist(explosive,bins=12,label=\"explosive\")\n",
        "plt.hist(effusive,bins=12,label=\"effusive\",alpha=0.3)\n",
        "plt.legend(loc=\"best\")\n",
        "plt.xlabel(\"MgO Percentage\")\n",
        "plt.ylabel(\"Frequency\")\n",
        "plt.title(\"Figure: 11 Frequency of Effusive and Explosive Eruptions with Lava MgO Content\")\n",
        "plt.show()\n",
        "\n",
        "# Check if each are parametric \n",
        "exp_stat,exp_p=stats.normaltest(explosive)\n",
        "eff_stat,eff_p=stats.normaltest(effusive)\n",
        "\n",
        "if (exp_p>0.05) and (eff_p>0.05):\n",
        "  print(\"Both are normal, use parametric test\")\n",
        "else:\n",
        "  print(\"One or both are not normal, use non-parametric test\")\n",
        "\n",
        "# One of them is not normal, use Mann-Whitney Unpaired Test\n",
        "u_stat,p=stats.mannwhitneyu(explosive,effusive)\n",
        "\n",
        "if p<0.05:\n",
        "  print(\"The two distributions are different. It appears explosive reactions depend on MgO content\")\n",
        "else:\n",
        "  print(\"The two distributions are similar. It is not clear if explosive reactions depend on MgO content.\")\n",
        "\n",
        "print(\"Explosive mean\",np.mean(explosive))\n",
        "print(\"Effusive mean\",np.mean(effusive))"
      ],
      "metadata": {
        "colab": {
          "base_uri": "https://localhost:8080/",
          "height": 592
        },
        "id": "rLHA0BO7hFAc",
        "outputId": "35f020ab-119c-41ac-a5ee-d29ea34023a2"
      },
      "execution_count": null,
      "outputs": [
        {
          "output_type": "display_data",
          "data": {
            "text/plain": [
              "<Figure size 720x576 with 1 Axes>"
            ],
            "image/png": "[encoded data removed]"
          },
          "metadata": {
            "needs_background": "light"
          }
        },
        {
          "output_type": "stream",
          "name": "stdout",
          "text": [
            "One or both are not normal, use non-parametric test\n",
            "The two distributions are similar. It is not clear if explosive reactions depend on MgO content.\n",
            "Explosive mean 0.36950840108206523\n",
            "Effusive mean 0.3691476440323256\n"
          ]
        }
      ]
    },
    {
      "cell_type": "markdown",
      "source": [
        "### CaO"
      ],
      "metadata": {
        "id": "JRa3So6n4US2"
      }
    },
    {
      "cell_type": "code",
      "source": [
        "# CaO\n",
        "\n",
        "\n",
        "# Import required functions\n",
        "import numpy as np\n",
        "import matplotlib.pyplot as plt\n",
        "import scipy.stats as stats\n",
        "\n",
        "# Import data file containing whether the eruptions is effusive or explosive and\n",
        "# the percent composition of lava \n",
        "data=np.genfromtxt(\"Eruption Type and Composition.txt\",dtype=\"str\")\n",
        "\n",
        "# Isolate type of eruption and CaO content \n",
        "exp_type=data[:,0]\n",
        "CaO=data[:,6]\n",
        "\n",
        "# Group CaO content for effusive versus explosive eruption\n",
        "explosive=[]\n",
        "effusive=[]\n",
        "for i in range(len(CaO)):\n",
        "  if exp_type[i]==\"explosive\":\n",
        "    explosive.append(float(CaO[i]))\n",
        "  elif exp_type[i]==\"effusive\":\n",
        "    effusive.append(float(CaO[i]))\n",
        "explosive.sort()\n",
        "effusive.sort()\n",
        "\n",
        "\n",
        "# Generate a histogram of CaO content for explosive and effusive eruptions\n",
        "plt.figure(figsize=(10,8))\n",
        "plt.hist(explosive,bins=12,label=\"explosive\")\n",
        "plt.hist(effusive,bins=12,label=\"effusive\",alpha=0.3)\n",
        "plt.legend(loc=\"best\")\n",
        "plt.xlabel(\"CaO Percentage\")\n",
        "plt.ylabel(\"Frequency\")\n",
        "plt.title(\"Figure: 12 Frequency of Effusive and Explosive Eruptions with Lava CaO Content\")\n",
        "plt.show()\n",
        "\n",
        "# Check if each are parametric \n",
        "exp_stat,exp_p=stats.normaltest(explosive)\n",
        "eff_stat,eff_p=stats.normaltest(effusive)\n",
        "\n",
        "if (exp_p>0.05) and (eff_p>0.05):\n",
        "  print(\"Both are normal, use parametric test\")\n",
        "else:\n",
        "  print(\"One or both are not normal, use non-parametric test\")\n",
        "\n",
        "# One of them is not normal, use Mann-Whitney Unpaired Test\n",
        "u_stat,p=stats.mannwhitneyu(explosive,effusive)\n",
        "\n",
        "if p<0.05:\n",
        "  print(\"The two distributions are different. It appears explosive reactions depend on CaO content\")\n",
        "else:\n",
        "  print(\"The two distributions are similar. It is not clear if explosive reactions depend on CaO content.\")\n",
        "\n",
        "print(\"Explosive mean\",np.mean(explosive))\n",
        "print(\"Effusive mean\",np.mean(effusive))"
      ],
      "metadata": {
        "colab": {
          "base_uri": "https://localhost:8080/",
          "height": 592
        },
        "id": "ENXS0LZJhZfz",
        "outputId": "684346be-fce9-451c-de5a-85a3096f66bb"
      },
      "execution_count": null,
      "outputs": [
        {
          "output_type": "display_data",
          "data": {
            "text/plain": [
              "<Figure size 720x576 with 1 Axes>"
            ],
            "image/png": "[encoded data removed]"
          },
          "metadata": {
            "needs_background": "light"
          }
        },
        {
          "output_type": "stream",
          "name": "stdout",
          "text": [
            "One or both are not normal, use non-parametric test\n",
            "The two distributions are similar. It is not clear if explosive reactions depend on CaO content.\n",
            "Explosive mean 1.691066585491304\n",
            "Effusive mean 1.6772354292620155\n"
          ]
        }
      ]
    },
    {
      "cell_type": "markdown",
      "source": [
        "### Na2O"
      ],
      "metadata": {
        "id": "CtVXaIxP4Ydm"
      }
    },
    {
      "cell_type": "code",
      "source": [
        "# Na2O\n",
        "\n",
        "\n",
        "# Import required functions\n",
        "import numpy as np\n",
        "import matplotlib.pyplot as plt\n",
        "import scipy.stats as stats\n",
        "\n",
        "# Import data file containing whether the eruptions is effusive or explosive and\n",
        "# the percent composition of lava \n",
        "data=np.genfromtxt(\"Eruption Type and Composition.txt\",dtype=\"str\")\n",
        "\n",
        "# Isolate type of eruption and Na2O content \n",
        "exp_type=data[:,0]\n",
        "Na2O=data[:,7]\n",
        "\n",
        "# Group Na2O content for effusive versus explosive eruption\n",
        "explosive=[]\n",
        "effusive=[]\n",
        "for i in range(len(Na2O)):\n",
        "  if exp_type[i]==\"explosive\":\n",
        "    explosive.append(float(Na2O[i]))\n",
        "  elif exp_type[i]==\"effusive\":\n",
        "    effusive.append(float(Na2O[i]))\n",
        "explosive.sort()\n",
        "effusive.sort()\n",
        "\n",
        "\n",
        "# Generate a histogram of Na2O content for explosive and effusive eruptions\n",
        "plt.figure(figsize=(10,8))\n",
        "plt.hist(explosive,bins=12,label=\"explosive\")\n",
        "plt.hist(effusive,bins=12,label=\"effusive\",alpha=0.3)\n",
        "plt.legend(loc=\"best\")\n",
        "plt.xlabel(\"Na2O Percentage\")\n",
        "plt.ylabel(\"Frequency\")\n",
        "plt.title(\"Figure: 13 Frequency of Effusive and Explosive Eruptions with Lava Na2O Content\")\n",
        "plt.show()\n",
        "\n",
        "# Check if each are parametric \n",
        "exp_stat,exp_p=stats.normaltest(explosive)\n",
        "eff_stat,eff_p=stats.normaltest(effusive)\n",
        "\n",
        "if (exp_p>0.05) and (eff_p>0.05):\n",
        "  print(\"Both are normal, use parametric test\")\n",
        "else:\n",
        "  print(\"One or both are not normal, use non-parametric test\")\n",
        "\n",
        "# Both are normal, use parametric unpaired t-test\n",
        "t_stat,p=stats.ttest_ind(explosive,effusive)\n",
        "\n",
        "if p<0.05:\n",
        "  print(\"The two distributions are different. It appears explosive reactions depend on Na2O content\")\n",
        "else:\n",
        "  print(\"The two distributions are similar. It is not clear if explosive reactions depend on Na2O content.\")\n",
        "\n",
        "print(\"Explosive mean\",np.mean(explosive))\n",
        "print(\"Effusive mean\",np.mean(effusive))"
      ],
      "metadata": {
        "colab": {
          "base_uri": "https://localhost:8080/",
          "height": 592
        },
        "id": "K8V8scUGhvL2",
        "outputId": "1a0acfbb-1ac4-4c06-9245-15fd1fbb2b73"
      },
      "execution_count": null,
      "outputs": [
        {
          "output_type": "display_data",
          "data": {
            "text/plain": [
              "<Figure size 720x576 with 1 Axes>"
            ],
            "image/png": "[encoded data removed]"
          },
          "metadata": {
            "needs_background": "light"
          }
        },
        {
          "output_type": "stream",
          "name": "stdout",
          "text": [
            "Both are normal, use parametric test\n",
            "The two distributions are similar. It is not clear if explosive reactions depend on Na2O content.\n",
            "Explosive mean 4.18525959047826\n",
            "Effusive mean 4.0033887471860465\n"
          ]
        }
      ]
    },
    {
      "cell_type": "markdown",
      "source": [
        "### K2O"
      ],
      "metadata": {
        "id": "6wooPp6e4aRQ"
      }
    },
    {
      "cell_type": "code",
      "source": [
        "# K2O\n",
        "\n",
        "\n",
        "# Import required functions\n",
        "import numpy as np\n",
        "import matplotlib.pyplot as plt\n",
        "import scipy.stats as stats\n",
        "\n",
        "# Import data file containing whether the eruptions is effusive or explosive and\n",
        "# the percent composition of lava \n",
        "data=np.genfromtxt(\"Eruption Type and Composition.txt\",dtype=\"str\")\n",
        "\n",
        "# Isolate type of eruption and K2O content \n",
        "exp_type=data[:,0]\n",
        "K2O=data[:,8]\n",
        "\n",
        "# Group K2O content for effusive versus explosive eruption\n",
        "explosive=[]\n",
        "effusive=[]\n",
        "for i in range(len(K2O)):\n",
        "  if exp_type[i]==\"explosive\":\n",
        "    explosive.append(float(K2O[i]))\n",
        "  elif exp_type[i]==\"effusive\":\n",
        "    effusive.append(float(K2O[i]))\n",
        "explosive.sort()\n",
        "effusive.sort()\n",
        "\n",
        "\n",
        "# Generate a histogram of K2O content for explosive and effusive eruptions\n",
        "plt.figure(figsize=(10,8))\n",
        "plt.hist(explosive,bins=12,label=\"explosive\")\n",
        "plt.hist(effusive,bins=12,label=\"effusive\",alpha=0.3)\n",
        "plt.legend(loc=\"best\")\n",
        "plt.xlabel(\"K2O Percentage\")\n",
        "plt.ylabel(\"Frequency\")\n",
        "plt.title(\"Figure: 14 Frequency of Effusive and Explosive Eruptions with Lava K2O Content\")\n",
        "plt.show()\n",
        "\n",
        "# Check if each are parametric \n",
        "exp_stat,exp_p=stats.normaltest(explosive)\n",
        "eff_stat,eff_p=stats.normaltest(effusive)\n",
        "\n",
        "if (exp_p>0.05) and (eff_p>0.05):\n",
        "  print(\"Both are normal, use parametric test\")\n",
        "else:\n",
        "  print(\"One or both are not normal, use non-parametric test\")\n",
        "\n",
        "# One of them is not normal, use Mann-Whitney Unpaired Test\n",
        "u_stat,p=stats.mannwhitneyu(explosive,effusive)\n",
        "\n",
        "if p<0.05:\n",
        "  print(\"The two distributions are different. It appears explosive reactions depend on K2O content\")\n",
        "else:\n",
        "  print(\"The two distributions are similar. It is not clear if explosive reactions depend on K2O content.\")\n",
        "\n",
        "print(\"Explosive mean\",np.mean(explosive))\n",
        "print(\"Effusive mean\",np.mean(effusive))"
      ],
      "metadata": {
        "colab": {
          "base_uri": "https://localhost:8080/",
          "height": 592
        },
        "id": "QdddYu8fiJKZ",
        "outputId": "e8535fdf-07ac-4340-b724-cfd6e0e64dcb"
      },
      "execution_count": null,
      "outputs": [
        {
          "output_type": "display_data",
          "data": {
            "text/plain": [
              "<Figure size 720x576 with 1 Axes>"
            ],
            "image/png": "[encoded data removed]"
          },
          "metadata": {
            "needs_background": "light"
          }
        },
        {
          "output_type": "stream",
          "name": "stdout",
          "text": [
            "One or both are not normal, use non-parametric test\n",
            "The two distributions are different. It appears explosive reactions depend on K2O content\n",
            "Explosive mean 3.3789586878369566\n",
            "Effusive mean 3.8275074287286825\n"
          ]
        }
      ]
    },
    {
      "cell_type": "code",
      "source": [
        ""
      ],
      "metadata": {
        "id": "INQWZdkCi0nJ"
      },
      "execution_count": null,
      "outputs": []
    },
    {
      "cell_type": "markdown",
      "source": [
        "### Theory and Hypothesis"
      ],
      "metadata": {
        "id": "lQ-xUtEZ5Yjq"
      }
    },
    {
      "cell_type": "markdown",
      "source": [
        "The next question was whether magma composition would influence the explosivity of the eruption. It is expected that magmas high in silica or SiO2 will dominate as silica influences the viscosity of magma (Camp, n.d.). Of course in all cases silica is the dominating compound, so it is also what influences the viscosity the greatest. Magmas high in silica are expected to present the most explosive eruptions because higher silica content leads to more silicon-oxygen tetrahedra (Camp, n.d.). These molecules are electrically charged and form polymer networks via covalent bonds between oxygen atoms of other molecules, which increases internal friction, effectively raising the viscosity of the magma (Camp, n.d.). Thus, when magma rises and the lower pressures result in the transition from liquid to vapor phase in H2O and CO2, if the magma is very viscous, it prevents the gas from escaping (Nelson, 2015). Pressure then builds, until the gas exerts enough force that an explosive eruption occurs (Mathews, 2006).\n",
        "\n",
        "On this basis, one would also expect magma type to correlate with eruption type since silica content largely determines whether the magma is Basaltic (45-55% silica), Andesitic (55-65% silica), or Rhyolitic (65-75% silica) (Nelson, 2015). Moreover, these types have different percent compositions of elements such as iron, magnesium, calcium, potassium and sodium, so the class of eruption should be reflected by the element composition (Nelson, 2015). This led to the formulation of a series of hypotheses each with a null hypothesis that the type of eruption is independent of percent composition. The above figures present the frequency of explosive versus effusive eruptions, with the percentage of the focus compound in the magma along the x-axis."
      ],
      "metadata": {
        "id": "RHwPyMcE586Y"
      }
    },
    {
      "cell_type": "markdown",
      "source": [
        "### Plan of Anaylsis:"
      ],
      "metadata": {
        "id": "2d_kyyOJ5nIw"
      }
    },
    {
      "cell_type": "markdown",
      "source": [
        "To extract results from the above plots a significance level of 0.05 was used. It was believed this level of significance would be sufficient to demonstrate any differences between the effusive and explosive data. For each plot the following procedure was then carried out to identify whether the explosive eruptions depended on composition: 1) identify if both effusive and explosive data are parametric using a 0.05 significance level, 2) if parametric use an independent t-test since percent composition of one eruption is independent of the other; if non-parametric, use the Mann-Whitney test on the same basis that they are independent, 3) if the p-value of these tests is smaller than the significance, reject the null and confirm eruption type depends on that particular compound."
      ],
      "metadata": {
        "id": "eauv4Nnm5-SU"
      }
    },
    {
      "cell_type": "markdown",
      "source": [
        "### Analysis:"
      ],
      "metadata": {
        "id": "fPJEdnJd5s46"
      }
    },
    {
      "cell_type": "markdown",
      "source": [
        "For all but NaO2 content, one or both of the distributions were not normal, every other test involved the Mann-Whitney test. Furthermore, all but the test on K2O presented no relation between the eruption type and composition percentage. However, even the results of this test are disputable since the distribution of effusive eruptions was bimodal. Thus, it is hard to conclude whether eruption type is truly dependent on the composition of K2O. Since the silica content was believed to be the primary cause of eruption type, the significance level was increased to see if the value was too low. Graphically, it was already clear this could not be the case since the mean of each distribution is close to the other. Even a significance of 0.2 did not disprove the null, suggesting the silica content had no effect on the eruption type of volcanoes."
      ],
      "metadata": {
        "id": "wGp7tIc85-uW"
      }
    },
    {
      "cell_type": "markdown",
      "source": [
        "### Discussion:"
      ],
      "metadata": {
        "id": "5HdoPn8K50-3"
      }
    },
    {
      "cell_type": "markdown",
      "source": [
        "From the above results, it appears eruption type is independent of the lava composition. Most sources suggest silica content is the primary factor influencing eruption type, at least regarding magma composition; however, the performed tests did not support this even at larger significance levels. Ignoring the lack of difference, the mean silica content of explosive volcanoes was 73%, which does fall within the range for Rhyolitic magma (65-75%) (Nelson, 2015). This much agrees with what was expected, since this means among explosive volcanoes, most had a silica content around 73%. All in all, no correlation was found between eruptions type and the magma composition."
      ],
      "metadata": {
        "id": "brqXGgBX5_14"
      }
    },
    {
      "cell_type": "markdown",
      "source": [
        "## General Conclusion:"
      ],
      "metadata": {
        "id": "FFWMSPsK6MmR"
      }
    },
    {
      "cell_type": "markdown",
      "source": [
        "In conclusion to the overlying question. Our overall research between several hypothesis, we came to the conclusion, we accepted the null hypothesis for the pre-eruptive conditions of storage temperature, melt composition's and visually concluded that magma types all had no effect on determining whether an eruptive style is going to be effusive and explosive. On the other side of this research, we rejected the null hypothesis for the pre-conditions of dissolved water amounts and crystallinity amounts. We found that there is a significant difference for both sets of data when determining whether or not a volcano is going to be effusive or explosive. For the pre-eruptive condition of dissolved water amounts, effusive styles have ~83.8% chance of occuring in the ranges of 3.0-4.0 %wt. On the other side of the explosive distribution, they have ~87.0% chance of occuring in the range 5.5-7.0 %wt. Explosive eruptions have ~79.1% chance of occuring in the ranges 4.0-5.5 %wt. For the pre-eruptive condition of crystallinity amounts (%vol), the ranges (incrimented by 5[vol%]) 0-40%vol crystallinity, explosive erruptions are more prominant by ~55.4%. While effusive eruptions are ~52.5% more prominant in the range 40-60%vol crystallinity.\n",
        "\n",
        "In conclusion, from our studies it is clear that there are only two main pre-eruptive condition which can be constrained in order to determine the eruptive style of a volcano; the amounts of dissolved water and crystallinity according to our analysis. "
      ],
      "metadata": {
        "id": "oaZZjSSwy51U"
      }
    },
    {
      "cell_type": "markdown",
      "source": [
        "## References\n",
        "\n",
        "Camp, V. (n.d.). How Volcanoes Work. San Diego State University.\n",
        ">http://sci.sdsu.edu/how_volcanoes_work/Controls.html \n",
        "\n",
        "Popa R-G., Bachmann O., Huber C. (2021) \n",
        "> \"Explosive or effusive style of volcanic eruption determined by magma storage conditions\" _Nature Geoscience_ (doi: 10.1038) https://doi.org/10.1038/s41561-021-00827-9\n",
        "\n",
        "Mathews, T. (2006). Volcanic Eruptions: Low Silica. Old Dominion University.\n",
        ">https://ww2.odu.edu/~tmmathew/geolgreece/eruption.shtml\n",
        "\n",
        "Nelson, S.A. Volcanoes, Magma, and Volcanic Eruptions. (2015, September 14). Tulane\n",
        ">University. https://www.tulane.edu/~sanelson/Natural_Disasters/volcan&magma.htm\n",
        "\n",
        "\n",
        "\n",
        "\n"
      ],
      "metadata": {
        "id": "7E8ye2dDs5ra"
      }
    }
  ]
}